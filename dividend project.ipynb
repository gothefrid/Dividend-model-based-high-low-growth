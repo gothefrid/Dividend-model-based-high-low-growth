{
 "cells": [
  {
   "cell_type": "markdown",
   "metadata": {},
   "source": [
    "## Dividend Project\n",
    "Task: compare high dividend growth stocks to low dividend growth stocks during uncertain times (corona-pandemic). "
   ]
  },
  {
   "cell_type": "code",
   "execution_count": 1,
   "metadata": {},
   "outputs": [],
   "source": [
    "import requests\n",
    "import json\n",
    "import pandas as pd\n",
    "import numpy as np\n",
    "import matplotlib.pyplot as plt\n",
    "import pandas_datareader as pdr\n",
    "from pandas_datareader import data\n",
    "import yfinance as yf"
   ]
  },
  {
   "cell_type": "code",
   "execution_count": 19,
   "metadata": {},
   "outputs": [],
   "source": [
    "import pandas as pd\n",
    "table=pd.read_html('https://en.wikipedia.org/wiki/List_of_S%26P_500_companies')\n",
    "df = table[0]\n",
    "Tickers = df['Symbol']\n",
    "tickers = Tickers  [0:23] #limited the sample only due to running time\n",
    "tickers1 = Tickers [0:23]\n",
    "tickers = list(tickers)"
   ]
  },
  {
   "cell_type": "code",
   "execution_count": 14,
   "metadata": {},
   "outputs": [],
   "source": [
    "start = '2010-01-01'\n",
    "end = '2020-12-31'\n",
    "data = pd.DataFrame()\n",
    "for i in tickers:\n",
    "    series = yf.Ticker(i).dividends.loc[start:end]\n",
    "    data = pd.concat([data, series], axis=1)\n",
    "data.columns=tickers"
   ]
  },
  {
   "cell_type": "code",
   "execution_count": 20,
   "metadata": {},
   "outputs": [],
   "source": [
    "df1 = data.apply(lambda x: pd.Series(x.dropna().values))"
   ]
  },
  {
   "cell_type": "code",
   "execution_count": 21,
   "metadata": {},
   "outputs": [],
   "source": [
    "df1 = df1.pct_change()"
   ]
  },
  {
   "cell_type": "code",
   "execution_count": 22,
   "metadata": {},
   "outputs": [],
   "source": [
    "df1summa = pd.DataFrame([1+x for index,x in df1.iterrows()])\n",
    "df1summa = df1summa.cumprod()\n",
    "df1summa = list(df1summa.iloc[-1])"
   ]
  },
  {
   "cell_type": "code",
   "execution_count": 23,
   "metadata": {},
   "outputs": [
    {
     "data": {
      "text/html": [
       "<div>\n",
       "<style scoped>\n",
       "    .dataframe tbody tr th:only-of-type {\n",
       "        vertical-align: middle;\n",
       "    }\n",
       "\n",
       "    .dataframe tbody tr th {\n",
       "        vertical-align: top;\n",
       "    }\n",
       "\n",
       "    .dataframe thead th {\n",
       "        text-align: right;\n",
       "    }\n",
       "</style>\n",
       "<table border=\"1\" class=\"dataframe\">\n",
       "  <thead>\n",
       "    <tr style=\"text-align: right;\">\n",
       "      <th></th>\n",
       "      <th>Symbols</th>\n",
       "      <th>Sum of DG</th>\n",
       "    </tr>\n",
       "  </thead>\n",
       "  <tbody>\n",
       "    <tr>\n",
       "      <th>0</th>\n",
       "      <td>MMM</td>\n",
       "      <td>2.800000</td>\n",
       "    </tr>\n",
       "    <tr>\n",
       "      <th>1</th>\n",
       "      <td>ABT</td>\n",
       "      <td>1.875782</td>\n",
       "    </tr>\n",
       "    <tr>\n",
       "      <th>2</th>\n",
       "      <td>ABBV</td>\n",
       "      <td>2.950000</td>\n",
       "    </tr>\n",
       "    <tr>\n",
       "      <th>3</th>\n",
       "      <td>ABMD</td>\n",
       "      <td>NaN</td>\n",
       "    </tr>\n",
       "    <tr>\n",
       "      <th>4</th>\n",
       "      <td>ACN</td>\n",
       "      <td>2.346667</td>\n",
       "    </tr>\n",
       "    <tr>\n",
       "      <th>5</th>\n",
       "      <td>ATVI</td>\n",
       "      <td>2.733333</td>\n",
       "    </tr>\n",
       "    <tr>\n",
       "      <th>6</th>\n",
       "      <td>ADBE</td>\n",
       "      <td>NaN</td>\n",
       "    </tr>\n",
       "    <tr>\n",
       "      <th>7</th>\n",
       "      <td>AMD</td>\n",
       "      <td>NaN</td>\n",
       "    </tr>\n",
       "    <tr>\n",
       "      <th>8</th>\n",
       "      <td>AAP</td>\n",
       "      <td>4.166667</td>\n",
       "    </tr>\n",
       "    <tr>\n",
       "      <th>9</th>\n",
       "      <td>AES</td>\n",
       "      <td>3.575000</td>\n",
       "    </tr>\n",
       "    <tr>\n",
       "      <th>10</th>\n",
       "      <td>AFL</td>\n",
       "      <td>2.000000</td>\n",
       "    </tr>\n",
       "    <tr>\n",
       "      <th>11</th>\n",
       "      <td>A</td>\n",
       "      <td>2.516391</td>\n",
       "    </tr>\n",
       "    <tr>\n",
       "      <th>12</th>\n",
       "      <td>APD</td>\n",
       "      <td>2.956204</td>\n",
       "    </tr>\n",
       "    <tr>\n",
       "      <th>13</th>\n",
       "      <td>AKAM</td>\n",
       "      <td>NaN</td>\n",
       "    </tr>\n",
       "    <tr>\n",
       "      <th>14</th>\n",
       "      <td>ALK</td>\n",
       "      <td>3.750000</td>\n",
       "    </tr>\n",
       "    <tr>\n",
       "      <th>15</th>\n",
       "      <td>ALB</td>\n",
       "      <td>2.750000</td>\n",
       "    </tr>\n",
       "    <tr>\n",
       "      <th>16</th>\n",
       "      <td>ARE</td>\n",
       "      <td>3.114286</td>\n",
       "    </tr>\n",
       "    <tr>\n",
       "      <th>17</th>\n",
       "      <td>ALXN</td>\n",
       "      <td>NaN</td>\n",
       "    </tr>\n",
       "    <tr>\n",
       "      <th>18</th>\n",
       "      <td>ALGN</td>\n",
       "      <td>NaN</td>\n",
       "    </tr>\n",
       "    <tr>\n",
       "      <th>19</th>\n",
       "      <td>ALLE</td>\n",
       "      <td>4.000000</td>\n",
       "    </tr>\n",
       "    <tr>\n",
       "      <th>20</th>\n",
       "      <td>LNT</td>\n",
       "      <td>1.924051</td>\n",
       "    </tr>\n",
       "    <tr>\n",
       "      <th>21</th>\n",
       "      <td>ALL</td>\n",
       "      <td>2.700000</td>\n",
       "    </tr>\n",
       "    <tr>\n",
       "      <th>22</th>\n",
       "      <td>GOOGL</td>\n",
       "      <td>NaN</td>\n",
       "    </tr>\n",
       "  </tbody>\n",
       "</table>\n",
       "</div>"
      ],
      "text/plain": [
       "   Symbols  Sum of DG\n",
       "0      MMM   2.800000\n",
       "1      ABT   1.875782\n",
       "2     ABBV   2.950000\n",
       "3     ABMD        NaN\n",
       "4      ACN   2.346667\n",
       "5     ATVI   2.733333\n",
       "6     ADBE        NaN\n",
       "7      AMD        NaN\n",
       "8      AAP   4.166667\n",
       "9      AES   3.575000\n",
       "10     AFL   2.000000\n",
       "11       A   2.516391\n",
       "12     APD   2.956204\n",
       "13    AKAM        NaN\n",
       "14     ALK   3.750000\n",
       "15     ALB   2.750000\n",
       "16     ARE   3.114286\n",
       "17    ALXN        NaN\n",
       "18    ALGN        NaN\n",
       "19    ALLE   4.000000\n",
       "20     LNT   1.924051\n",
       "21     ALL   2.700000\n",
       "22   GOOGL        NaN"
      ]
     },
     "execution_count": 23,
     "metadata": {},
     "output_type": "execute_result"
    }
   ],
   "source": [
    "dff = pd.DataFrame()\n",
    "dff['Symbols'] = tickers1\n",
    "dff['Sum of DG'] = df1summa\n",
    "dff.index\n",
    "dff"
   ]
  },
  {
   "cell_type": "code",
   "execution_count": 24,
   "metadata": {},
   "outputs": [
    {
     "data": {
      "text/html": [
       "<div>\n",
       "<style scoped>\n",
       "    .dataframe tbody tr th:only-of-type {\n",
       "        vertical-align: middle;\n",
       "    }\n",
       "\n",
       "    .dataframe tbody tr th {\n",
       "        vertical-align: top;\n",
       "    }\n",
       "\n",
       "    .dataframe thead th {\n",
       "        text-align: right;\n",
       "    }\n",
       "</style>\n",
       "<table border=\"1\" class=\"dataframe\">\n",
       "  <thead>\n",
       "    <tr style=\"text-align: right;\">\n",
       "      <th></th>\n",
       "      <th>Symbols</th>\n",
       "      <th>Sum of DG</th>\n",
       "    </tr>\n",
       "  </thead>\n",
       "  <tbody>\n",
       "    <tr>\n",
       "      <th>1</th>\n",
       "      <td>ABT</td>\n",
       "      <td>1.875782</td>\n",
       "    </tr>\n",
       "    <tr>\n",
       "      <th>20</th>\n",
       "      <td>LNT</td>\n",
       "      <td>1.924051</td>\n",
       "    </tr>\n",
       "    <tr>\n",
       "      <th>10</th>\n",
       "      <td>AFL</td>\n",
       "      <td>2.000000</td>\n",
       "    </tr>\n",
       "    <tr>\n",
       "      <th>4</th>\n",
       "      <td>ACN</td>\n",
       "      <td>2.346667</td>\n",
       "    </tr>\n",
       "    <tr>\n",
       "      <th>11</th>\n",
       "      <td>A</td>\n",
       "      <td>2.516391</td>\n",
       "    </tr>\n",
       "    <tr>\n",
       "      <th>21</th>\n",
       "      <td>ALL</td>\n",
       "      <td>2.700000</td>\n",
       "    </tr>\n",
       "    <tr>\n",
       "      <th>5</th>\n",
       "      <td>ATVI</td>\n",
       "      <td>2.733333</td>\n",
       "    </tr>\n",
       "    <tr>\n",
       "      <th>15</th>\n",
       "      <td>ALB</td>\n",
       "      <td>2.750000</td>\n",
       "    </tr>\n",
       "    <tr>\n",
       "      <th>0</th>\n",
       "      <td>MMM</td>\n",
       "      <td>2.800000</td>\n",
       "    </tr>\n",
       "    <tr>\n",
       "      <th>2</th>\n",
       "      <td>ABBV</td>\n",
       "      <td>2.950000</td>\n",
       "    </tr>\n",
       "    <tr>\n",
       "      <th>12</th>\n",
       "      <td>APD</td>\n",
       "      <td>2.956204</td>\n",
       "    </tr>\n",
       "    <tr>\n",
       "      <th>16</th>\n",
       "      <td>ARE</td>\n",
       "      <td>3.114286</td>\n",
       "    </tr>\n",
       "    <tr>\n",
       "      <th>9</th>\n",
       "      <td>AES</td>\n",
       "      <td>3.575000</td>\n",
       "    </tr>\n",
       "    <tr>\n",
       "      <th>14</th>\n",
       "      <td>ALK</td>\n",
       "      <td>3.750000</td>\n",
       "    </tr>\n",
       "    <tr>\n",
       "      <th>19</th>\n",
       "      <td>ALLE</td>\n",
       "      <td>4.000000</td>\n",
       "    </tr>\n",
       "    <tr>\n",
       "      <th>8</th>\n",
       "      <td>AAP</td>\n",
       "      <td>4.166667</td>\n",
       "    </tr>\n",
       "  </tbody>\n",
       "</table>\n",
       "</div>"
      ],
      "text/plain": [
       "   Symbols  Sum of DG\n",
       "1      ABT   1.875782\n",
       "20     LNT   1.924051\n",
       "10     AFL   2.000000\n",
       "4      ACN   2.346667\n",
       "11       A   2.516391\n",
       "21     ALL   2.700000\n",
       "5     ATVI   2.733333\n",
       "15     ALB   2.750000\n",
       "0      MMM   2.800000\n",
       "2     ABBV   2.950000\n",
       "12     APD   2.956204\n",
       "16     ARE   3.114286\n",
       "9      AES   3.575000\n",
       "14     ALK   3.750000\n",
       "19    ALLE   4.000000\n",
       "8      AAP   4.166667"
      ]
     },
     "execution_count": 24,
     "metadata": {},
     "output_type": "execute_result"
    }
   ],
   "source": [
    "dff = dff.sort_values(['Sum of DG'], ascending=True).dropna(axis=0)\n",
    "dff"
   ]
  },
  {
   "cell_type": "code",
   "execution_count": 25,
   "metadata": {},
   "outputs": [
    {
     "name": "stdout",
     "output_type": "stream",
     "text": [
      "   Symbols  Sum of DG\n",
      "9      AES   3.575000\n",
      "14     ALK   3.750000\n",
      "19    ALLE   4.000000\n",
      "8      AAP   4.166667\n",
      "   Symbols  Sum of DG\n",
      "1      ABT   1.875782\n",
      "20     LNT   1.924051\n",
      "10     AFL   2.000000\n"
     ]
    }
   ],
   "source": [
    "#build portfolio of high and low growth\n",
    "portfolio1 = dff[(int((4/5)*len(dff))):len(dff)]\n",
    "print(portfolio1)\n",
    "portfolio2 = dff[0:int(((1/5)*len(dff)))]\n",
    "print(portfolio2)"
   ]
  },
  {
   "cell_type": "code",
   "execution_count": 26,
   "metadata": {},
   "outputs": [],
   "source": [
    "symbols1 = list(portfolio1['Symbols'])\n",
    "portf1 = pdr.get_data_yahoo(symbols1, start=start, end=end)\n",
    "symbols2 = list(portfolio2['Symbols'])\n",
    "portf2 = pdr.get_data_yahoo(symbols2, start=start, end=end)\n",
    "\n",
    "lista = []\n",
    "def weights(symbols):\n",
    "    for w in symbols:\n",
    "        weight = 1/len(symbols)\n",
    "        lista.append(weight)\n",
    "    return lista\n",
    "lista1 = []\n",
    "def weights2(symbols):\n",
    "    for w in symbols:\n",
    "        weight = 1/len(symbols)\n",
    "        lista1.append(weight)\n",
    "    return lista1\n",
    "weight1 = weights(symbols1)\n",
    "weight2 = weights2(symbols2)\n"
   ]
  },
  {
   "cell_type": "code",
   "execution_count": 27,
   "metadata": {},
   "outputs": [],
   "source": [
    "portf1 = portf1['Adj Close']\n",
    "portf2 = portf2['Adj Close']"
   ]
  },
  {
   "cell_type": "code",
   "execution_count": 28,
   "metadata": {},
   "outputs": [],
   "source": [
    "ret_data1 = portf1.pct_change()[1:]\n",
    "weighted_returns1 = (weight1 * ret_data1)\n",
    "port_ret1 = weighted_returns1.sum(axis=1)\n",
    "\n",
    "ret_data2 = portf2.pct_change()[1:]\n",
    "weighted_returns2 = (weight2 * ret_data2)\n",
    "port_ret2 = weighted_returns2.sum(axis=1)"
   ]
  },
  {
   "cell_type": "code",
   "execution_count": 29,
   "metadata": {},
   "outputs": [
    {
     "data": {
      "text/plain": [
       "<AxesSubplot:title={'center':'Low growth div returns'}, xlabel='Date'>"
      ]
     },
     "execution_count": 29,
     "metadata": {},
     "output_type": "execute_result"
    },
    {
     "data": {
      "image/png": "[encoded data removed]",
      "text/plain": [
       "<Figure size 432x288 with 1 Axes>"
      ]
     },
     "metadata": {
      "needs_background": "light"
     },
     "output_type": "display_data"
    },
    {
     "data": {
      "image/png": "[encoded data removed]",
      "text/plain": [
       "<Figure size 432x288 with 1 Axes>"
      ]
     },
     "metadata": {
      "needs_background": "light"
     },
     "output_type": "display_data"
    }
   ],
   "source": [
    "cum_datalist_growth=pd.DataFrame([1+x for x in port_ret1], index=ret_data1.index)\n",
    "growth_stocks = cum_datalist_growth.cumprod()\n",
    "growth_stocks.plot(title = 'High growth div returns')\n",
    "\n",
    "cum_datalist_yield = pd.DataFrame([1+x for x in port_ret2], index=ret_data2.index)\n",
    "yield_stocks = cum_datalist_yield.cumprod()\n",
    "yield_stocks.plot(title = 'Low growth div returns')"
   ]
  },
  {
   "cell_type": "code",
   "execution_count": 30,
   "metadata": {},
   "outputs": [],
   "source": [
    "#from the graphs, one can draw the conclusion that the high-growth stocks actually recovers must slower from a Covid-19 pandemic.\n",
    "#compared to low growth. In addition (again only drawing from the graphs) the volatility seems lower for low growth stocks.\n",
    "sharpe_growth = port_ret1.mean()/port_ret1.std()\n",
    "sharpe_yield = port_ret2.mean()/port_ret2.std()"
   ]
  },
  {
   "cell_type": "code",
   "execution_count": 31,
   "metadata": {},
   "outputs": [
    {
     "name": "stdout",
     "output_type": "stream",
     "text": [
      "0.046463541837119995\n",
      "0.05312300996412517\n"
     ]
    }
   ],
   "source": [
    "print(sharpe_growth)\n",
    "print(sharpe_yield)\n",
    "#as expected the sharpe sort of confirms the findings. "
   ]
  },
  {
   "cell_type": "code",
   "execution_count": null,
   "metadata": {},
   "outputs": [],
   "source": [
    "'''\n",
    "for comparison to high dividend yield: (later work)\n",
    "\n",
    "df2 = data.apply(lambda x: pd.Series(x.dropna().values))\n",
    "df3 = pdr.get_data_yahoo(tickers, start=start, end=end)['Adj Close']\n",
    "'''"
   ]
  },
  {
   "cell_type": "code",
   "execution_count": null,
   "metadata": {},
   "outputs": [],
   "source": []
  },
  {
   "cell_type": "code",
   "execution_count": null,
   "metadata": {},
   "outputs": [],
   "source": []
  }
 ],
 "metadata": {
  "kernelspec": {
   "display_name": "Python 3",
   "language": "python",
   "name": "python3"
  },
  "language_info": {
   "codemirror_mode": {
    "name": "ipython",
    "version": 3
   },
   "file_extension": ".py",
   "mimetype": "text/x-python",
   "name": "python",
   "nbconvert_exporter": "python",
   "pygments_lexer": "ipython3",
   "version": "3.7.7"
  }
 },
 "nbformat": 4,
 "nbformat_minor": 4
}
